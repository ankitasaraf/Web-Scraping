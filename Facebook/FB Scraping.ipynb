{
 "cells": [
  {
   "cell_type": "code",
   "execution_count": 1,
   "metadata": {},
   "outputs": [],
   "source": [
    "from selenium import webdriver\n",
    "from selenium.webdriver.common.keys import Keys\n",
    "from selenium.common.exceptions import TimeoutException\n",
    "from selenium.webdriver.support.ui import WebDriverWait\n",
    "from selenium.webdriver.support import expected_conditions as EC\n",
    "from selenium.webdriver.common.by import By\n",
    "import urllib.request"
   ]
  },
  {
   "cell_type": "markdown",
   "metadata": {},
   "source": [
    "### Create a new browser session. \n",
    "This requires ChromeDriver to be installed in the machine"
   ]
  },
  {
   "cell_type": "code",
   "execution_count": 25,
   "metadata": {},
   "outputs": [],
   "source": [
    "driver = webdriver.Chrome()\n",
    "driver.implicitly_wait(30)\n",
    "driver.maximize_window()\n",
    "wait = WebDriverWait(driver, 10)"
   ]
  },
  {
   "cell_type": "code",
   "execution_count": 26,
   "metadata": {},
   "outputs": [],
   "source": [
    "imageLocation = 'ImagePath'"
   ]
  },
  {
   "cell_type": "code",
   "execution_count": 27,
   "metadata": {},
   "outputs": [],
   "source": [
    "numOfImages = 3"
   ]
  },
  {
   "cell_type": "code",
   "execution_count": 28,
   "metadata": {},
   "outputs": [],
   "source": [
    "driver.get(\"http://www.facebook.com\")"
   ]
  },
  {
   "cell_type": "code",
   "execution_count": null,
   "metadata": {},
   "outputs": [],
   "source": [
    "username = input('Enter facebook userid: ') \n",
    "#username = 'abcd@gmail.com'"
   ]
  },
  {
   "cell_type": "code",
   "execution_count": null,
   "metadata": {},
   "outputs": [],
   "source": [
    "password = input('Enter facebook password: ') \n",
    "#password = '********'"
   ]
  },
  {
   "cell_type": "code",
   "execution_count": 31,
   "metadata": {},
   "outputs": [],
   "source": [
    "username_box = driver.find_element_by_id('email')\n",
    "username_box.send_keys(username)\n",
    "password_box = driver.find_element_by_id('pass')\n",
    "password_box.send_keys(password)"
   ]
  },
  {
   "cell_type": "code",
   "execution_count": 32,
   "metadata": {},
   "outputs": [],
   "source": [
    "login_box = driver.find_element_by_name('login') #loginbutton\n",
    "login_box.click()"
   ]
  },
  {
   "cell_type": "code",
   "execution_count": 33,
   "metadata": {},
   "outputs": [],
   "source": [
    "driver.get(\"https://www.facebook.com/media/set/?vanity=nike&set=a.10156282465898445\")"
   ]
  },
  {
   "cell_type": "code",
   "execution_count": 13,
   "metadata": {},
   "outputs": [
    {
     "name": "stdout",
     "output_type": "stream",
     "text": [
      "Found 22 images:\n"
     ]
    }
   ],
   "source": [
    "elementList = driver.find_elements_by_class_name(\"_2eea\")\n",
    "\n",
    "# print the number of results found\n",
    "print ('Found ' + str(len(elementList)) + ' images:')\n"
   ]
  },
  {
   "cell_type": "markdown",
   "metadata": {},
   "source": [
    "### Retrieve the list of images from the image tags"
   ]
  },
  {
   "cell_type": "code",
   "execution_count": null,
   "metadata": {},
   "outputs": [],
   "source": [
    "# iterate through each element and print the text that is\n",
    "# name of the search\n",
    "print ('Top 3 search results:')\n",
    "i=0\n",
    "imageList = []\n",
    "for element in elementList:\n",
    "    i=i+1\n",
    "    print ('%d >>> -------' % i)    \n",
    "    highResImgPageLink = element.find_element_by_tag_name(\"a\").get_attribute(\"href\")\n",
    "    imageList.append(highResImgPageLink)\n",
    "    print(highResImgPageLink)\n",
    "    if(i==numOfImages):\n",
    "        break\n",
    "#print(imageList)\n",
    "        "
   ]
  },
  {
   "cell_type": "markdown",
   "metadata": {},
   "source": [
    "### Iterate though the image list, call out the link, fetch the high resolution image link and download the same"
   ]
  },
  {
   "cell_type": "code",
   "execution_count": null,
   "metadata": {},
   "outputs": [],
   "source": [
    "imgCount = 1\n",
    "print('Downloading images')\n",
    "for image in imageList:\n",
    "    driver.get(image)\n",
    "    wait.until(EC.url_contains(\"theater\"))\n",
    "    timeout = 5\n",
    "    try:\n",
    "        element_present = EC.presence_of_element_located((By.CLASS_NAME, 'spotlight'))\n",
    "        WebDriverWait(driver, timeout).until(element_present)\n",
    "        driver.implicitly_wait(30)\n",
    "        highResImgElement = driver.find_element_by_class_name('spotlight')\n",
    "        highResImgLink = highResImgElement.get_attribute('src')\n",
    "        \n",
    "        fileName = 'image' + str(imgCount) + '.jpg'\n",
    "        fileLocation = imageLocation + fileName\n",
    "        urllib.request.urlretrieve(highResImgLink, fileLocation)\n",
    "        print('image location: %s' % highResImgLink)\n",
    "        print('saved image: %s' % fileLocation)\n",
    "        print('---------')\n",
    "    except TimeoutException:\n",
    "        print ('Timed out waiting for page to load')\n",
    "    imgCount = imgCount + 1\n",
    "print('Download complete')"
   ]
  },
  {
   "cell_type": "code",
   "execution_count": 34,
   "metadata": {},
   "outputs": [],
   "source": [
    "# close the browser window\n",
    "driver.quit()"
   ]
  }
 ],
 "metadata": {
  "kernelspec": {
   "display_name": "Python 3",
   "language": "python",
   "name": "python3"
  },
  "language_info": {
   "codemirror_mode": {
    "name": "ipython",
    "version": 3
   },
   "file_extension": ".py",
   "mimetype": "text/x-python",
   "name": "python",
   "nbconvert_exporter": "python",
   "pygments_lexer": "ipython3",
   "version": "3.7.4"
  }
 },
 "nbformat": 4,
 "nbformat_minor": 2
}
